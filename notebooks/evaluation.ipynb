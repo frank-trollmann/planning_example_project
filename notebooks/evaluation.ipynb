{
 "cells": [
  {
   "attachments": {},
   "cell_type": "markdown",
   "metadata": {},
   "source": [
    "# Evaluation\n",
    "\n",
    "In this experiment we evaluate which of the algorithms performs best for our problem.\n"
   ]
  },
  {
   "cell_type": "code",
   "execution_count": 2,
   "metadata": {},
   "outputs": [
    {
     "name": "stderr",
     "output_type": "stream",
     "text": [
      "c:\\Users\\frank\\Documents\\Teaching\\LU\\Planning and Optimization LU - Material\\Planning Example Project\\planning_example_project\\environment\\lib\\site-packages\\IPython\\core\\magics\\osm.py:417: UserWarning: This is now an optional IPython functionality, setting dhist requires you to install the `pickleshare` library.\n",
      "  self.shell.db['dhist'] = compress_dhist(dhist)[-100:]\n"
     ]
    },
    {
     "name": "stdout",
     "output_type": "stream",
     "text": [
      "c:\\Users\\frank\\Documents\\Teaching\\LU\\Planning and Optimization LU - Material\\Planning Example Project\\planning_example_project\n"
     ]
    }
   ],
   "source": [
    "# correct working directory.\n",
    "# This is necessary for imports because the notebook is not in the main folder of the project. \n",
    "if not \"working_directory_corrected\" in vars():\n",
    "    %cd ..\n",
    "    working_directory_corrected = True\n",
    "\n",
    "\n",
    "import pandas as pd\n",
    "\n",
    "from evaluation.timed_experiment import Timed_Experiment\n",
    "from algorithms.heuristic_search import Heuristic_Search\n",
    "from algorithms.depth_first_search import Depth_First_Search\n",
    "from algorithms.dijkstra import Dijkstra\n",
    "\n",
    "\n",
    "# load dataset\n",
    "from data.dataset import Dataset"
   ]
  },
  {
   "cell_type": "markdown",
   "metadata": {},
   "source": [
    "## Procedure\n",
    "\n",
    "The cell below runs all algorithms and records data.\n",
    "\n",
    "The following algorithms are run as a consequence of previous experiments:\n",
    "- Depth First Search based on the original graph.\n",
    "- Heuristic Search based on the original graph.\n",
    "- Dijkstra's algorithm in conjunction with the layout algorithm \"drl\" in variation 1 and scale factor of 10.\n",
    "\n",
    "Each run will be comprised of 10000 planning problems. Each planning algorithm will be initialized with the same random seed. Since we used the seed 42 in previous experiments we will choose a different one here, to avoid bias towards the problems produced by that seed.\n",
    "\n",
    "From each experiment we will collect the following data:\n",
    "- *average_time*: The average time they took to solve each problem.\n",
    "- *nr_extended*: The number of nodes that were extended.\n",
    "- *time per extension*: The average time required for one extension.\n",
    "We will also record these three values for failed and successfull runs.\n",
    "\n",
    "After running the experiments we will use these values to discuss the algorithms and select which one would be most suitable. For suitability, their average run time is the selection criterium."
   ]
  },
  {
   "cell_type": "code",
   "execution_count": 5,
   "metadata": {},
   "outputs": [
    {
     "name": "stdout",
     "output_type": "stream",
     "text": [
      "\n",
      "running <class 'algorithms.depth_first_search.Depth_First_Search'> on algorithm None with variation None\n",
      "Average Time:  72269706 ns\n",
      "Nr Extended:  328047519\n",
      "Time per extension:  2203 ns\n",
      "Nr successful runs: 1381\n",
      "Average Successful Time:  63680977 ns\n",
      "Nr Successful Extensions:  36415112\n",
      "Time per successful extension:  2415 ns\n",
      "Nr unsuccessful runs: 8619\n",
      "Average Unsuccessful Time: 73645856 ns\n",
      "Nr Failed Extensions:  291632407\n",
      "Time per failed extension:  2176 ns\n",
      "\n",
      "running <class 'algorithms.heuristic_search.Heuristic_Search'> on algorithm None with variation None\n",
      "Average Time:  110705766 ns\n",
      "Nr Extended:  328047519\n",
      "Time per extension:  3374 ns\n",
      "Nr successful runs: 1381\n",
      "Average Successful Time:  94847983 ns\n",
      "Nr Successful Extensions:  36415112\n",
      "Time per successful extension:  3596 ns\n",
      "Nr unsuccessful runs: 8619\n",
      "Average Unsuccessful Time: 113246617 ns\n",
      "Nr Failed Extensions:  291632407\n",
      "Time per failed extension:  3346 ns\n",
      "\n",
      "running <class 'algorithms.dijkstra.Dijkstra'> on algorithm drl with variation 1\n",
      "Average Time:  123868401 ns\n",
      "Nr Extended:  327444468\n",
      "Time per extension:  3782 ns\n",
      "Nr successful runs: 1381\n",
      "Average Successful Time:  102283653 ns\n",
      "Nr Successful Extensions:  35813060\n",
      "Time per successful extension:  3944 ns\n",
      "Nr unsuccessful runs: 8619\n",
      "Average Unsuccessful Time: 127326869 ns\n",
      "Nr Failed Extensions:  291631408\n",
      "Time per failed extension:  3763 ns\n"
     ]
    }
   ],
   "source": [
    "\n",
    "#experiment configuration\n",
    "\n",
    "\n",
    "runs = 10000\n",
    "algorithm_names = [None, None, \"drl\"]\n",
    "variations = [None,None,1]\n",
    "scale_factors = [None,None,10]\n",
    "planners = [Depth_First_Search, Heuristic_Search, Dijkstra] \n",
    "\n",
    "# test planners\n",
    "for index in range(len(planners)):\n",
    "    planner = planners[index]\n",
    "    algorithm_name = algorithm_names[index]\n",
    "    variation = variations[index]\n",
    "    scale_factor = scale_factors[index]\n",
    "\n",
    "    \n",
    "    # load graph\n",
    "    file_name = f\"if_{algorithm_name}_{variation}\"\n",
    "    dataset = Dataset()\n",
    "    graph = dataset.load_graph()\n",
    "    if algorithm_name is not None:\n",
    "        dataset.convert_to_spatial(graph,file_name, scale_factor=scale_factor)\n",
    "\n",
    "\n",
    "    print(f\"\\nrunning {planner} on algorithm {algorithm_name} with variation {variation}\")\n",
    "    experiment = Timed_Experiment(graph, planner, runs, random_seed=7, verbose = False)\n",
    "    experiment.run()\n",
    "    print(\"Average Time: \", int(experiment.get_average_time()), \"ns\")\n",
    "    print(\"Nr Extended: \", experiment.get_nr_extensions())\n",
    "    print(\"Time per extension: \", int(experiment.get_average_extension_time()), \"ns\")\n",
    "    \n",
    "    print(\"Nr successful runs:\", experiment.get_nr_successful_runs())\t\n",
    "    print(\"Average Successful Time: \", int(experiment.get_average_successful_time()), \"ns\")\t \n",
    "    print(\"Nr Successful Extensions: \", experiment.get_nr_successful_extensions())\t\n",
    "    print(\"Time per successful extension: \", int(experiment.get_average_successful_extension_time()), \"ns\")\t\n",
    "    \n",
    "    print(\"Nr unsuccessful runs:\", experiment.get_nr_unsuccessful_runs())\t\n",
    "    print(\"Average Unsuccessful Time:\", int(experiment.get_average_unsuccessful_time()), \"ns\")\t \n",
    "    print(\"Nr Failed Extensions: \", experiment.get_nr_unsuccessful_extensions())\t\n",
    "    print(\"Time per failed extension: \", int(experiment.get_average_unsuccessful_extension_time()), \"ns\")\t\n"
   ]
  },
  {
   "cell_type": "markdown",
   "metadata": {},
   "source": [
    "### Results\n",
    "\n",
    "The below table is the result of running the experiment on a Lenovo ThinkPad E14 Gen 6, standard configuration.\n",
    "While running, the notebook has been left alone, to minimize the influence of other applications.\n",
    "\n",
    "| Metric | Depth First Search | Heuristic Search | Djkstra's Algorithm |\n",
    "| --- | --- | --- | --- |\n",
    "| Average Time (All)| 72 ms  | 110 ms  | 123 ms |\n",
    "| Average Time (Success)| 64 ms  | 95 ms  | 102 ms |\n",
    "| Average Time (Fail)| 74 ms  | 113 ms  | 127 ms |\n",
    "| Nr Extended (All)| 328.047.519 | 328.047.519 | 327.444.468 |\n",
    "| Nr Extended (Success)| 36.415.112 | 36.415.112 | 35.813.060 |\n",
    "| Nr Extended (Fail)| 291.632.407 | 291.632.407 | 291.631.408 |\n",
    "| Time per extension (All)| 2203  ns | 3374 ns  | 3782 ns |\n",
    "| Time per extension (Success)| 2415  ns  | 3596 ns  | 3944 ns |\n",
    "| Time per extension (Fail)| 2176  ns  | 3346 ns  | 3763 ns |\n"
   ]
  },
  {
   "cell_type": "markdown",
   "metadata": {},
   "source": [
    "### Discussion\n",
    "\n",
    "Depth first search performed significantly better that the two other algorithms in all cases. \n",
    "\n",
    "While Dijkstra's algorithm was able to dredue on teh number of extended nodes in successful cases, it did not speed up the overall search time sufficiently to matter.\n",
    "The reason for the better performance of Depth first search is likely the higher computational overhead of the other algorithms (see time per extension) and the fact that the problem search space didn't allow them to counteract this overhead by finding a result in less steps.\n",
    "\n",
    "It should be noted that this experiment only compared the search times and ignored the time taken to run the layout algorithm. Had an informed algorithm outperformed the uninformed one, this time would have had to be taken into account."
   ]
  },
  {
   "cell_type": "markdown",
   "metadata": {},
   "source": [
    "### Conclusion\n",
    "\n",
    "We recommend Depth First Search for this problem as it outperformed all other algorithms with regard to average run time."
   ]
  }
 ],
 "metadata": {
  "kernelspec": {
   "display_name": "environment",
   "language": "python",
   "name": "python3"
  },
  "language_info": {
   "codemirror_mode": {
    "name": "ipython",
    "version": 3
   },
   "file_extension": ".py",
   "mimetype": "text/x-python",
   "name": "python",
   "nbconvert_exporter": "python",
   "pygments_lexer": "ipython3",
   "version": "3.10.6"
  },
  "orig_nbformat": 4
 },
 "nbformat": 4,
 "nbformat_minor": 2
}
