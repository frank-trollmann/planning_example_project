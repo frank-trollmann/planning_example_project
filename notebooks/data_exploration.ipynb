{
 "cells": [
  {
   "attachments": {},
   "cell_type": "markdown",
   "metadata": {},
   "source": [
    "# Data Exploration\n",
    "\n",
    "The purpose of this notebook is to explore the dataset.\n",
    "\n",
    "The dataset can be found under this URL: https://snap.stanford.edu/data/email-EuAll.html\n",
    "Severel statistics can be looked up there as well. \n",
    "\n",
    "On a general level, the dataset represents emails sent. The dataset is already anonymized and each person has a unique id (integer, starting at 0).\n",
    "The graph itself is directed.\n",
    "\n",
    "But first let's get the imports out of the way."
   ]
  },
  {
   "cell_type": "code",
   "execution_count": 2,
   "metadata": {},
   "outputs": [],
   "source": [
    "# correct working directory.\n",
    "# This is necessary for imports because the notebook is not in the main folder of the project. \n",
    "if not \"working_directory_corrected\" in vars():\n",
    "    %cd ..\n",
    "    working_directory_corrected = True\n",
    "\n",
    "# standard library imports\n",
    "import matplotlib.pyplot as plt\n",
    "plt.rcParams[\"figure.autolayout\"] = True \n",
    "\n",
    "# same-project dependencies.\n",
    "from data.dataset import Dataset"
   ]
  },
  {
   "attachments": {},
   "cell_type": "markdown",
   "metadata": {},
   "source": [
    "## Download and Inspect Data\n",
    "\n",
    "As a first step we download our data. The class *Dataset* manages this for us. It takes care of downloading and managing the files of the dataset in the background. The first time we execute the following cell, it will take a bit longer, as the data will be downloaded. "
   ]
  },
  {
   "cell_type": "code",
   "execution_count": 3,
   "metadata": {},
   "outputs": [],
   "source": [
    "# Dataset wrapper automatically downloads data the first time we request it.\n",
    "dataset = Dataset()\n",
    "graph = dataset.load_graph()"
   ]
  },
  {
   "attachments": {},
   "cell_type": "markdown",
   "metadata": {},
   "source": [
    "Let's first look at some general statistics: the number of nodes and edges."
   ]
  },
  {
   "cell_type": "code",
   "execution_count": 12,
   "metadata": {},
   "outputs": [
    {
     "name": "stdout",
     "output_type": "stream",
     "text": [
      "Nr nodes:  265214\n",
      "Nr edges:  420045\n"
     ]
    }
   ],
   "source": [
    "print(\"Nr nodes: \", graph.num_nodes)\n",
    "print(\"Nr edges: \", graph.num_edges)"
   ]
  },
  {
   "attachments": {},
   "cell_type": "markdown",
   "metadata": {},
   "source": [
    "## Branching Factor\n",
    "\n",
    "From the cell above we can see that there are about 265.000 persons, sending 420.000 emails.\n",
    "This means on average each person sends emails to two other persons.\n",
    "\n",
    "This means on average, we would expect the graph representation to have a branching factor of 2. For making decisions about algorithms, it would be interesting to understand how the actual branching factor looks. For this purpose, we will plot the distribution of number of emails sent.\n",
    "Note that the below plot is on a logarithmic scale."
   ]
  },
  {
   "cell_type": "code",
   "execution_count": 7,
   "metadata": {},
   "outputs": [
    {
     "name": "stdout",
     "output_type": "stream",
     "text": [
      "Maximum outgoing edges:  930\n",
      "Most frequent number of edges:  1\n",
      "----------------------\n",
      "Nr nodes with 0 edges:  39805\n",
      "Nr nodes with 1 edge:  192117\n",
      "Nr nodes with 2 edges:  18763\n",
      "Nr nodes with 3 edges:  5461\n",
      "Nr nodes with 4 edges:  2537\n",
      "Nr nodes with 5 edges:  1489\n",
      "Nr nodes with 6 edges:  896\n",
      "Nr nodes with 7 edges:  634\n",
      "Nr nodes with 8 edges:  445\n",
      "Nr nodes with 9 edges:  355\n",
      "Nr nodes with 10 edges:  277\n"
     ]
    },
    {
     "data": {
      "image/png": "[encoded data removed]",
      "text/plain": [
       "<Figure size 640x480 with 1 Axes>"
      ]
     },
     "metadata": {},
     "output_type": "display_data"
    }
   ],
   "source": [
    "\n",
    "counts = []\n",
    "\n",
    "for index in range(len(graph.adjacency_list)):\n",
    "    edges = graph.adjacency_list[index]\n",
    "    nr_nodes = len(edges)\n",
    "    while len(counts)<=nr_nodes:\n",
    "        counts.append(0)\n",
    "    counts[nr_nodes] += 1\n",
    "\n",
    "print(\"Maximum outgoing edges: \",len(counts)-1)\n",
    "print(\"Most frequent number of edges: \", counts.index(max(counts)))\n",
    "print(\"----------------------\")\n",
    "print(\"Nr nodes with 0 edges: \", counts[0])\n",
    "print(\"Nr nodes with 1 edge: \", counts[1])\n",
    "print(\"Nr nodes with 2 edges: \", counts[2])\n",
    "print(\"Nr nodes with 3 edges: \", counts[3])\n",
    "print(\"Nr nodes with 4 edges: \", counts[4])\n",
    "print(\"Nr nodes with 5 edges: \", counts[5])\n",
    "print(\"Nr nodes with 6 edges: \", counts[6])\n",
    "print(\"Nr nodes with 7 edges: \", counts[7])\n",
    "print(\"Nr nodes with 8 edges: \", counts[8])\n",
    "print(\"Nr nodes with 9 edges: \", counts[9])\n",
    "print(\"Nr nodes with 10 edges: \", counts[10])\n",
    "plt.bar(range(len(counts)),counts, log=True)\n",
    "plt.show()\n"
   ]
  },
  {
   "attachments": {},
   "cell_type": "markdown",
   "metadata": {},
   "source": [
    "As can be seen in the plot, the distribution is far from uniform. Even on the logarithmic scale, there is a clear preference towards low values below 10. However, there are some individuals that also are connected to 800 others.\n",
    "\n",
    "However, while these outliers exist, the vast majority of cases only have a low number of edges. The most frequent case is one outgoing edge and the next frequent cases are close to it. This means the vast majority of nodes will have less than 10 outgoing edges. A low branching factor of below 10 can thus be assumed."
   ]
  },
  {
   "cell_type": "markdown",
   "metadata": {},
   "source": [
    "# Do edges represent individual emails?\n",
    "\n",
    "One thing that wasn't clear from the description was whether edges represent individual emails or just the fact that at least one email has been sent.\n",
    "To check this, we can chek whether there are any dublicate entries of edges between the same source and target. If so, we would expect that edges represent individual emails."
   ]
  },
  {
   "cell_type": "code",
   "execution_count": 5,
   "metadata": {},
   "outputs": [
    {
     "name": "stdout",
     "output_type": "stream",
     "text": [
      "Dataset contains edges with dublicate source and targets:  False\n"
     ]
    }
   ],
   "source": [
    "contains_dublicates = False\n",
    "for index in range(len(graph.adjacency_list)):\n",
    "\n",
    "    if nr_nodes != len(set(edges)):\n",
    "        contains_dublicates = True\n",
    "print(\"Dataset contains edges with dublicate source and targets: \",contains_dublicates)"
   ]
  },
  {
   "cell_type": "markdown",
   "metadata": {},
   "source": [
    "It seems like there is no single case of a dublicate edge. Whils this is no conclusive proof, it is very unlikely that not a single case of two emails with the same sender and receiver exist. For this reason, we will assume that connections in this dataset represent contact, not individual emails. "
   ]
  }
 ],
 "metadata": {
  "kernelspec": {
   "display_name": "environment",
   "language": "python",
   "name": "python3"
  },
  "language_info": {
   "codemirror_mode": {
    "name": "ipython",
    "version": 3
   },
   "file_extension": ".py",
   "mimetype": "text/x-python",
   "name": "python",
   "nbconvert_exporter": "python",
   "pygments_lexer": "ipython3",
   "version": "3.10.6"
  },
  "orig_nbformat": 4
 },
 "nbformat": 4,
 "nbformat_minor": 2
}
