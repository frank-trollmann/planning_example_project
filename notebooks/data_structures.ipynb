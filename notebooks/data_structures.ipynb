{
 "cells": [
  {
   "attachments": {},
   "cell_type": "markdown",
   "metadata": {},
   "source": [
    "# Data Structure Experiment\n",
    "\n",
    "The purpose of this notebook is to experiment with data structures in order to argue choices in algorithms.\n",
    "\n",
    "\n",
    "\n",
    "\n"
   ]
  },
  {
   "cell_type": "code",
   "execution_count": 1,
   "metadata": {},
   "outputs": [
    {
     "name": "stdout",
     "output_type": "stream",
     "text": [
      "c:\\Users\\frank\\Documents\\Teaching\\LU\\Planning and Optimization LU - Material\\Planning Example Project\\planning_example_project\n"
     ]
    },
    {
     "name": "stderr",
     "output_type": "stream",
     "text": [
      "c:\\Users\\frank\\Documents\\Teaching\\LU\\Planning and Optimization LU - Material\\Planning Example Project\\planning_example_project\\environment\\lib\\site-packages\\IPython\\core\\magics\\osm.py:417: UserWarning: This is now an optional IPython functionality, setting dhist requires you to install the `pickleshare` library.\n",
      "  self.shell.db['dhist'] = compress_dhist(dhist)[-100:]\n"
     ]
    }
   ],
   "source": [
    "# correct working directory.\n",
    "# This is necessary for imports because the notebook is not in the main folder of the project. \n",
    "if not \"working_directory_corrected\" in vars():\n",
    "    %cd ..\n",
    "    working_directory_corrected = True\n",
    "\n",
    "from collections import deque\n",
    "from queue import PriorityQueue\n",
    "from queue import SimpleQueue\n",
    "from queue import Queue\n",
    "from queue import LifoQueue\n",
    "import heapq\n",
    "\n",
    "import time\n",
    "import copy\n",
    "import random\n"
   ]
  },
  {
   "attachments": {},
   "cell_type": "markdown",
   "metadata": {},
   "source": [
    "# Experiment 1 - List Data Types for Breadth First Search and Depth First Search\n",
    "\n",
    "The goal of this epxeriment is to determine which list data type is better suited for representing the open list in BFS and DFS.\n",
    "\n",
    "## Procedure\n",
    "\n",
    "For this experiment we will compare list algorithms for their use within Breadth First Search and Depth First Search.\n",
    "\n",
    "The following data structures will be compared:\n",
    "- Python Lists\n",
    "- Double Ended Queue (collections.deque)\n",
    "- queue.SimpleQueue\n",
    "- queue.Queue\n",
    "- queue.LifoQueue\n",
    "\n",
    "For each data structure, we will test the following cases, as far as they are applicable:\n",
    "- Put element\n",
    "- Pop oldest element.\n",
    "- Pop newest element.\n",
    "These cases are tested because they are the operations requiered for Depth First Search and Breadth First Search. \n",
    "It should be noted that pure queue and stack implementations (queue.Queue, queue.SimpleQueue, queue.LifoQueue) only allow popping from one end of the list. They are still included in this experiment because implementing either BFS or DFS only requires one of the two deletion operations.\n",
    "\n",
    "\n",
    "Each use case will be tested by inserting / deleting 100.000 elements. We will then compare the overall time for each case.\n"
   ]
  },
  {
   "cell_type": "markdown",
   "metadata": {},
   "source": [
    "## Results\n",
    "\n",
    "The below cell runs the experiment and prints the results.\n"
   ]
  },
  {
   "cell_type": "code",
   "execution_count": 6,
   "metadata": {},
   "outputs": [
    {
     "name": "stdout",
     "output_type": "stream",
     "text": [
      "List - Put took 9106000 ns\n",
      "List - Pop newest took 9095800 ns\n",
      "List - Pop oldest took 854796300 ns\n",
      "Deque - Put took 6999700 ns\n",
      "Deque - Pop newest took 6003700 ns\n",
      "Deque - Pop oldest took 6094800 ns\n",
      "Queue - Put took 108912700 ns\n",
      "Queue - Pop oldest took 103044000 ns\n",
      "SimpleQueue - Put took 6006300 ns\n",
      "SimpleQueue - Pop oldest took 7111100 ns\n",
      "LifoQueue - Put took 100922200 ns\n",
      "LifoQueue - Pop newest took 98514500 ns\n"
     ]
    }
   ],
   "source": [
    "# list insert\n",
    "list = []\n",
    "start = time.time_ns()\n",
    "for i in range(100000):\n",
    "    list.append(i)\n",
    "end = time.time_ns()\n",
    "print(f\"List - Put took {end - start} ns\")\n",
    "\n",
    "# list remove at end\n",
    "list2 = copy.copy(list)\n",
    "start = time.time_ns()\n",
    "for i in range(len(list)):\n",
    "    list2.pop()\n",
    "end = time.time_ns()\n",
    "print(f\"List - Pop newest took {end - start} ns\")\n",
    "\n",
    "# list remove at front\n",
    "list2 = copy.copy(list)\n",
    "start = time.time_ns()\n",
    "for i in range(len(list)):\n",
    "    list2.pop(0)\n",
    "end = time.time_ns()\n",
    "print(f\"List - Pop oldest took {end - start} ns\")\n",
    "\n",
    "# dequeue insert\n",
    "q = deque()\t\n",
    "start = time.time_ns()\t\n",
    "for i in range(100000):\n",
    "    q.append(i)\n",
    "end = time.time_ns()\t\n",
    "print(f\"Deque - Put took {end - start} ns\")\t\n",
    "\n",
    "# dequeue remove at end\t\n",
    "q2 = copy.copy(q)\t\n",
    "start = time.time_ns()\t\n",
    "for i in range(len(q)):\n",
    "    q2.pop()\t\n",
    "end = time.time_ns()\t\n",
    "print(f\"Deque - Pop newest took {end - start} ns\")\t\n",
    "\n",
    "# dequeue remove at front\t\n",
    "q2 = copy.copy(q)\t\n",
    "start = time.time_ns()\t\n",
    "for i in range(len(q)):\n",
    "    q2.popleft()\t\n",
    "end = time.time_ns()\t\n",
    "print(f\"Deque - Pop oldest took {end - start} ns\")\t\n",
    "\n",
    "# Queue insert\t\n",
    "q = Queue()\t\n",
    "start = time.time_ns()\t\n",
    "for i in range(100000):\n",
    "    q.put(i)\t\n",
    "end = time.time_ns()\t\n",
    "print(f\"Queue - Put took {end - start} ns\")\t\n",
    "\n",
    "# Queue remove front\t\n",
    "start = time.time_ns()\t\n",
    "for i in range(100000):\n",
    "    q.get()\t\n",
    "end = time.time_ns()\t\n",
    "print(f\"Queue - Pop oldest took {end - start} ns\")\t\n",
    "\n",
    "# SimpleQueue insert\n",
    "q = SimpleQueue()\t\n",
    "start = time.time_ns()\t\n",
    "for i in range(100000):\n",
    "    q.put(i)\t\n",
    "end = time.time_ns()\t\n",
    "print(f\"SimpleQueue - Put took {end - start} ns\")\t\n",
    "\n",
    "# SimpleQueue remove front\n",
    "start = time.time_ns()\t\n",
    "for i in range(100000):\n",
    "    q.get()\t\n",
    "end = time.time_ns()\t\n",
    "print(f\"SimpleQueue - Pop oldest took {end - start} ns\")\t\n",
    "\n",
    "# LifoQueue insert\n",
    "q = LifoQueue()\t\n",
    "start = time.time_ns()\t\n",
    "for i in range(100000):\n",
    "    q.put(i)\t\n",
    "end = time.time_ns()\t\n",
    "print(f\"LifoQueue - Put took {end - start} ns\")\t\n",
    "\n",
    "# LifoQueue remove back\n",
    "start = time.time_ns()\t\n",
    "for i in range(100000):\n",
    "    q.get()\t\n",
    "end = time.time_ns()\t\n",
    "print(f\"LifoQueue - Pop newest took {end - start} ns\")\t\t\n",
    "\n",
    "\n"
   ]
  },
  {
   "attachments": {},
   "cell_type": "markdown",
   "metadata": {},
   "source": [
    "The below table is the result of running the experiment on a Lenovo ThinkPad E14 Gen 6, standard configuration.\n",
    "Results are rounded to the nearest millisecond.\n",
    "\n",
    "|          | List | Deque | queue.SimpleQueue | queue.Queue | queue.LifoQueue |\n",
    "| -------- | ------- | ------- | ------- | ------- | ------- | \n",
    "| Put|   7 ms | 6 ms  | 6 ms| 111 ms | 103 ms |\n",
    "| Pop Newest |   5  ms | 7 ms   | - | - | 102 ms | \n",
    "| Pop Oldest |  793 ms | 6 ms  | 8 ms | 108 ms | - |\n"
   ]
  },
  {
   "cell_type": "markdown",
   "metadata": {},
   "source": [
    "# Discussion\n",
    "\n",
    "In the above results we can see two clear classes of time. Some operations take between 5 and 10 ms. Other take 100 ms and more. When rerunning the above cell the times change slightly. From this observation we assume that differences of one or two milliseconds are not significant in the above table. \n",
    "\n",
    "Based on this observation we choose Dequeue as it has a time of 5 to 10 ms for all operations. For BFS, we could also have chosen queue. SimpleQueue for the same reason (BFS does not require the Pop Newest Operation).\n",
    "\n",
    "queue.Queue and queue.LifoQueue are clearly outperformed by the normal Dequeue. This is likely due to those data structures including support for multi-threading, which adds additional computational complexity.\n",
    "\n",
    "Python lists take significantly longer for the pop oldest operation. This aligns with the complexity classes given here: https://www.geeksforgeeks.org/deque-vs-list-in-python/. They could have been chosen for implementing DFS as the pop oldes operation is not used in this algorithm."
   ]
  },
  {
   "cell_type": "markdown",
   "metadata": {},
   "source": [
    "# Experiment 2 - Priority Queues \n",
    "\n",
    "The goal of this experiment is to determine which priority queue implementation is more performant for use in A*, Heuristic Search and Dijkstra's Algorithm.\n",
    "\n",
    "## Procedure\n",
    "\n",
    "For this experiment we will compare the following Priority Queue implementations:\n",
    "- queue.PriorityQueue\n",
    "- heapq\n",
    "\n",
    "For each data structure, we will test the following cases:\n",
    "- Adding elements in random order.\n",
    "- Removing from front.\n",
    "These cases are tested because they are the operations requiered for the abovementioned heuristic search methods. \n",
    "Each use case will be tested by inserting / deleting 100.000 elements. Randomness will be controlled by using the same random seed for both experiments. We will then compare the overall time for each case.\n"
   ]
  },
  {
   "cell_type": "markdown",
   "metadata": {},
   "source": [
    "## Results\n",
    "\n",
    "The below cell runs the experiment and prints the results.\n"
   ]
  },
  {
   "cell_type": "code",
   "execution_count": 15,
   "metadata": {},
   "outputs": [
    {
     "name": "stdout",
     "output_type": "stream",
     "text": [
      "PriorityQueue - Insert took 151701100 ns\n",
      "PriorityQueue - Remove took 267593600 ns\n",
      "Heapq - Insert took 56516700 ns\n",
      "Heapq - Remove took 92520700 ns\n"
     ]
    }
   ],
   "source": [
    "\n",
    "# PriorityQueue insert\n",
    "pq = PriorityQueue()\n",
    "random.seed(42)\n",
    "start = time.time_ns()\n",
    "for i in range(100000):\n",
    "    pq.put(random.randint(0,10000000))\n",
    "end = time.time_ns()\n",
    "print(f\"PriorityQueue - Insert took {end - start} ns\")\n",
    "\n",
    "# PriorityQueue remove\n",
    "for i in range(len(list)):\n",
    "    pq.get()\n",
    "end = time.time_ns()\n",
    "print(f\"PriorityQueue - Remove took {end - start} ns\")\n",
    "\n",
    "# heapq insert\t\n",
    "h = []\t\n",
    "start = time.time_ns()\t\n",
    "for i in range(100000):\n",
    "    heapq.heappush(h, random.randint(0,10000000))\t\n",
    "end = time.time_ns()\t\n",
    "print(f\"Heapq - Insert took {end - start} ns\")\t\n",
    "\n",
    "# heapq remove\t\n",
    "for i in range(len(list)):\n",
    "    heapq.heappop(h)\t\n",
    "end = time.time_ns()\t\n",
    "print(f\"Heapq - Remove took {end - start} ns\")\t"
   ]
  },
  {
   "cell_type": "markdown",
   "metadata": {},
   "source": [
    "The below table is the result of running the experiment on a Lenovo ThinkPad E14 Gen 6, standard configuration.\n",
    "Results are rounded to the nearest millisecond.\n",
    "\n",
    "|          | PriorityQueue | heapq |\n",
    "| -------- | ------- | ------- | \n",
    "| Insert|   152   ms | 57  ms  | \n",
    "| Remove|   268    ms | 93  ms   | \n"
   ]
  },
  {
   "cell_type": "markdown",
   "metadata": {},
   "source": [
    "# Discussion\n",
    "\n",
    "According to our results, the PriorityQueue implementation was slower than the heapq implementation by a factor of three. \n",
    "This may be due to the fact that the PriorityQueue class has added complexity to make it useable in context of multi-threading use cases.\n",
    "\n",
    "According to these results we will use a heapq for implementing our algorithms.\n"
   ]
  }
 ],
 "metadata": {
  "kernelspec": {
   "display_name": "environment",
   "language": "python",
   "name": "python3"
  },
  "language_info": {
   "codemirror_mode": {
    "name": "ipython",
    "version": 3
   },
   "file_extension": ".py",
   "mimetype": "text/x-python",
   "name": "python",
   "nbconvert_exporter": "python",
   "pygments_lexer": "ipython3",
   "version": "3.10.6"
  },
  "orig_nbformat": 4
 },
 "nbformat": 4,
 "nbformat_minor": 2
}
