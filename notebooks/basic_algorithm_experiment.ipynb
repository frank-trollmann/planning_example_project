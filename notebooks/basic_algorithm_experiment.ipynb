{
 "cells": [
  {
   "attachments": {},
   "cell_type": "markdown",
   "metadata": {},
   "source": [
    "# Basic Algorithm Experiment\n",
    "\n",
    "The purpose of this notebook is to evaluate the performance of basic algorithms. We will evaluate: \n",
    "- Breadth First Search\n",
    "- Depth First Search\n",
    "- Dijkstra's algorithm (adjusted to stop once a path has been found)\n"
   ]
  },
  {
   "cell_type": "code",
   "execution_count": 1,
   "metadata": {},
   "outputs": [
    {
     "name": "stdout",
     "output_type": "stream",
     "text": [
      "c:\\Users\\frank\\Documents\\Teaching\\LU\\Planning and Optimization LU - Material\\Planning Example Project\\planning_example_project\n"
     ]
    },
    {
     "name": "stderr",
     "output_type": "stream",
     "text": [
      "c:\\Users\\frank\\Documents\\Teaching\\LU\\Planning and Optimization LU - Material\\Planning Example Project\\planning_example_project\\environment\\lib\\site-packages\\IPython\\core\\magics\\osm.py:417: UserWarning: This is now an optional IPython functionality, setting dhist requires you to install the `pickleshare` library.\n",
      "  self.shell.db['dhist'] = compress_dhist(dhist)[-100:]\n"
     ]
    }
   ],
   "source": [
    "# correct working directory.\n",
    "# This is necessary for imports because the notebook is not in the main folder of the project. \n",
    "if not \"working_directory_corrected\" in vars():\n",
    "    %cd ..\n",
    "    working_directory_corrected = True\n",
    "\n",
    "\n",
    "import pandas as pd\n",
    "\n",
    "from evaluation.timed_experiment import Timed_Experiment\n",
    "from algorithms.depth_first_search import Depth_First_Search\n",
    "from algorithms.breadth_first_search import Breadth_First_Search\n",
    "from algorithms.dijkstra import Dijkstra\n",
    "\n",
    "# load dataset\n",
    "from data.dataset import Dataset\n",
    "dataset = Dataset()\n",
    "graph = dataset.load_graph()"
   ]
  },
  {
   "attachments": {},
   "cell_type": "markdown",
   "metadata": {},
   "source": [
    "## Procedure\n",
    "\n",
    "For this experiment we will run Breadth First Search, Depth First Search and Dijkstra's Algorithm.\n",
    "\n",
    "Each algorithm will be tested on 1000 planning problems (meaning different start and end nodes). To eliminate differences due to randomness, the three algorithms will be synchronized based on a random seed, meaning they will solve the same planning problems. \n",
    "\n",
    "From each experiment we will collect the following data:\n",
    "- *average_time*: The average time needed to find a path.\n",
    "- *nr_extended*: The number of nodes that were extended during search.\n",
    "- *time per extension*: The average time required for one extension.\n",
    "\n",
    "The experiment will be run using the class *Timed_Experiment*.\n",
    "\n"
   ]
  },
  {
   "cell_type": "markdown",
   "metadata": {},
   "source": [
    "## Results\n",
    "\n",
    "The below cell runs the experiment and prints the results.\n",
    "\n",
    "If you want to run your own experiments you can change this cell. If you want to convince yourself that the three algorithms are indeed tested on the same problems, you can set the verbose flag to True."
   ]
  },
  {
   "cell_type": "code",
   "execution_count": 5,
   "metadata": {},
   "outputs": [
    {
     "name": "stdout",
     "output_type": "stream",
     "text": [
      "Running Breadth_First_Search...\n",
      "Average Time:  101199413 ns\n",
      "Nr Extended:  33751457\n",
      "Time per extension:  2998 ns\n",
      "\n",
      "Running Depth_First_Search...\n",
      "Average Time:  76471816 ns\n",
      "Nr Extended:  33502919\n",
      "Time per extension:  2282 ns\n",
      "\n",
      "Running Dijkstra...\n",
      "Average Time:  205628019 ns\n",
      "Nr Extended:  33867838\n",
      "Time per extension:  6071 ns\n",
      "\n"
     ]
    }
   ],
   "source": [
    "algorithms = [Breadth_First_Search, Depth_First_Search, Dijkstra]\n",
    "\n",
    "for algorithm in algorithms:\n",
    "    print(f\"Running {algorithm.__name__}...\")\n",
    "    experiment = Timed_Experiment(graph, algorithm, 1000, random_seed=42, verbose = False)\n",
    "    experiment.run()\n",
    "    print(\"Average Time: \", int(experiment.get_average_time()), \"ns\")\n",
    "    print(\"Nr Extended: \", experiment.get_nr_extensions())\n",
    "    print(\"Time per extension: \", int(experiment.get_average_extension_time()), \"ns\")\n",
    "    print()\n",
    "\n"
   ]
  },
  {
   "attachments": {},
   "cell_type": "markdown",
   "metadata": {},
   "source": [
    "The below table is the result of running the experiment on a Lenovo ThinkPad E14 Gen 6, standard configuration.\n",
    "While running, the notebook has been left alone, to minimize the influence of other applications.\n",
    "\n",
    "\n",
    "|          | Average Time | Nr Extended | Time per Extension |\n",
    "| -------- | ------- | ------- | ------- |\n",
    "| BFS| 101 ms | 33.751.457 | 2998     ns |\n",
    "| DFS | 76 ms | 33.502.919 | 2282     ns |\n",
    "| Dijkstra | 206 ms | 33.867.838 | 6071   ns|\n"
   ]
  },
  {
   "cell_type": "markdown",
   "metadata": {},
   "source": [
    "# Discussion\n",
    "\n",
    "The results indicate that Depth First Search is the fastest of the three alternatives by a considerable margin. \n",
    "\n",
    "Breadth First Search comes in second with about 20% longer average time.\n",
    "\n",
    "Dijkstra's algorithm takes almost three times as long as Depth First Search.\n",
    "\n",
    "The difference in times seem to be influenced most by the time per execution. Dikstra's algorithm takes almost three times as long as the other two algorithms. This is likely due to the need to maintain a priority queue, which has non-constant insertion complexity. \n"
   ]
  }
 ],
 "metadata": {
  "kernelspec": {
   "display_name": "environment",
   "language": "python",
   "name": "python3"
  },
  "language_info": {
   "codemirror_mode": {
    "name": "ipython",
    "version": 3
   },
   "file_extension": ".py",
   "mimetype": "text/x-python",
   "name": "python",
   "nbconvert_exporter": "python",
   "pygments_lexer": "ipython3",
   "version": "3.10.6"
  },
  "orig_nbformat": 4
 },
 "nbformat": 4,
 "nbformat_minor": 2
}
